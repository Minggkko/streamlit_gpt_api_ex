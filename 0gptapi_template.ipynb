{
 "cells": [
  {
   "cell_type": "markdown",
   "id": "c6a7a8af",
   "metadata": {},
   "source": [
    "# OpneAi api key 테스트"
   ]
  },
  {
   "cell_type": "markdown",
   "id": "0e81ecb8",
   "metadata": {},
   "source": [
    "### API key 로딩"
   ]
  },
  {
   "cell_type": "code",
   "execution_count": null,
   "id": "da523be6",
   "metadata": {},
   "outputs": [],
   "source": [
    "from dotenv import load_dotenv\n",
    "import os\n",
    "\n",
    "# .env 파일 로드, # 기존 환경변수 덮어쓰기\n",
    "load_dotenv(override=True)\n",
    "\n",
    "OPENAI_API_KEY = os.getenv('OPENAI_API_KEY')"
   ]
  },
  {
   "cell_type": "markdown",
   "id": "16983435",
   "metadata": {},
   "source": [
    "### 라이브러리 로딩 및 개체 생성"
   ]
  },
  {
   "cell_type": "code",
   "execution_count": 2,
   "id": "226cd332",
   "metadata": {},
   "outputs": [],
   "source": [
    "from openai import OpenAI\n",
    "# openai api인증 및 OpenAI객체생성\n",
    "client = OpenAI(api_key = OPENAI_API_KEY)"
   ]
  },
  {
   "cell_type": "markdown",
   "id": "e1f1cf2f",
   "metadata": {},
   "source": [
    "### GPT AI 모델에게 질문하기"
   ]
  },
  {
   "cell_type": "code",
   "execution_count": 28,
   "id": "f79c5066",
   "metadata": {},
   "outputs": [],
   "source": [
    "response = client.responses.create(\n",
    "    model=\"gpt-5\",\n",
    "    input=\"Hello! Good to see you.\"\n",
    ")"
   ]
  },
  {
   "cell_type": "markdown",
   "id": "1cde5fc9",
   "metadata": {},
   "source": [
    "### 응답 결과 파싱\n",
    "- GPT모델을 실행시킬때마다 charging됨으로, 실행과 print는 분리하는 게 좋음"
   ]
  },
  {
   "cell_type": "code",
   "execution_count": 29,
   "id": "8dde8919",
   "metadata": {},
   "outputs": [
    {
     "name": "stdout",
     "output_type": "stream",
     "text": [
      "Hi! Great to see you too. How can I help you today?\n"
     ]
    }
   ],
   "source": [
    "print(response.output_text)"
   ]
  },
  {
   "cell_type": "code",
   "execution_count": 12,
   "id": "bceacf67",
   "metadata": {},
   "outputs": [
    {
     "name": "stdout",
     "output_type": "stream",
     "text": [
      "Response(id='resp_045ee9b2fa768ade0068fecd5a55548194b5c19be0bac87698', created_at=1761529178.0, error=None, incomplete_details=None, instructions=None, metadata={}, model='gpt-5-2025-08-07', object='response', output=[ResponseReasoningItem(id='rs_045ee9b2fa768ade0068fecd5acc4081948a4d561b29015247', summary=[], type='reasoning', content=None, encrypted_content=None, status=None), ResponseOutputMessage(id='msg_045ee9b2fa768ade0068fecd5b2da0819482d6c45c3cbcd90e', content=[ResponseOutputText(annotations=[], text='Hi! Nice to meet you too. How can I help you today?', type='output_text', logprobs=[])], role='assistant', status='completed', type='message')], parallel_tool_calls=True, temperature=1.0, tool_choice='auto', tools=[], top_p=1.0, background=False, conversation=None, max_output_tokens=None, max_tool_calls=None, previous_response_id=None, prompt=None, prompt_cache_key=None, reasoning=Reasoning(effort='medium', generate_summary=None, summary=None), safety_identifier=None, service_tier='default', status='completed', text=ResponseTextConfig(format=ResponseFormatText(type='text'), verbosity='medium'), top_logprobs=0, truncation='disabled', usage=ResponseUsage(input_tokens=13, input_tokens_details=InputTokensDetails(cached_tokens=0), output_tokens=21, output_tokens_details=OutputTokensDetails(reasoning_tokens=0), total_tokens=34), user=None, billing={'payer': 'developer'}, store=True)\n"
     ]
    }
   ],
   "source": [
    "print(response)"
   ]
  },
  {
   "cell_type": "markdown",
   "id": "44d1602f",
   "metadata": {},
   "source": [
    "[Ai응답결과]\n",
    "Response(id='resp_045ee9b2fa768ade0068fecd5a55548194b5c19be0bac87698', created_at=1761529178.0, error=None, incomplete_details=None, instructions=None, metadata={}, model='gpt-5-2025-08-07', object='response', output=[ResponseReasoningItem(id='rs_045ee9b2fa768ade0068fecd5acc4081948a4d561b29015247', summary=[], type='reasoning', content=None, encrypted_content=None, status=None), ResponseOutputMessage(id='msg_045ee9b2fa768ade0068fecd5b2da0819482d6c45c3cbcd90e', content=[ResponseOutputText(annotations=[], **text='Hi! Nice to meet you too. How can I help you today?'**, type='output_text', logprobs=[])], role='assistant', status='completed', type='message')], parallel_tool_calls=True, temperature=1.0, tool_choice='auto', tools=[], top_p=1.0, background=False, conversation=None, max_output_tokens=None, max_tool_calls=None, previous_response_id=None, prompt=None, prompt_cache_key=None, reasoning=Reasoning(effort='medium', generate_summary=None, summary=None), safety_identifier=None, service_tier='default', status='completed', text=ResponseTextConfig(format=ResponseFormatText(type='text'), verbosity='medium'), top_logprobs=0, truncation='disabled', usage=ResponseUsage(input_tokens=13, input_tokens_details=InputTokensDetails(cached_tokens=0), output_tokens=21, output_tokens_details=OutputTokensDetails(reasoning_tokens=0), total_tokens=34), user=None, billing={'payer': 'developer'}, store=True)"
   ]
  },
  {
   "cell_type": "markdown",
   "id": "fb889ff3",
   "metadata": {},
   "source": [
    "### 플레이그라운드 이용 실습"
   ]
  },
  {
   "cell_type": "code",
   "execution_count": 32,
   "id": "a73ea1b7",
   "metadata": {},
   "outputs": [],
   "source": [
    "from openai import OpenAI\n",
    "client = OpenAI(api_key = OPENAI_API_KEY)\n",
    "\n",
    "response = client.responses.create(\n",
    "  prompt={\n",
    "    \"id\": \"pmpt_68fedc12746c8197b34c8f537186b29f0de5915746e2c1f4\",\n",
    "    \"version\": \"1\",\n",
    "    \"variables\": {\n",
    "      \"city\": \"서울\"\n",
    "    }\n",
    "  }\n",
    ")"
   ]
  },
  {
   "cell_type": "code",
   "execution_count": 33,
   "id": "f82d3e8f",
   "metadata": {},
   "outputs": [
    {
     "name": "stdout",
     "output_type": "stream",
     "text": [
      "알겠습니다! 앞으로 들어오는 질문에 맞춰 서울 관광정보를 친절하고 정확하게 안내해드릴게요. 먼저 바로 활용할 수 있는 핵심 가이드를 드리고, 필요하시면 취향·일정·예산에 맞춰 맞춤 코스를 짜드릴게요.\n",
      "\n",
      "서울 하이라이트 TOP 추천\n",
      "- 유산/궁궐: 경복궁(수문장 교대식), 창덕궁(비원 예약 투어), 덕수궁 돌담길, 종묘\n",
      "- 전통 골목: 북촌·서촌 한옥마을, 익선동, 인사동\n",
      "- 전망/야경: 남산 N서울타워, 롯데월드타워 서울스카이, 한강(반포 달빛무지개분수)\n",
      "- 현대 랜드마크: DDP, 코엑스 별마당도서관·봉은사, 성수동·연남동 카페 거리\n",
      "- 박물관/미술: 국립중앙박물관, 전쟁기념관, 리움미술관, 서울시립미술관\n",
      "- 마켓/쇼핑: 명동·남대문·동대문(패션/야시장), 광장시장·망원시장(푸드)\n",
      "- 자연/트레킹: 북한산·인왕산·아차산, 한양도성 성곽길\n",
      "- K-컬처 체험: 홍대 댄스 클래스, 포토부스/녹음카페, 굿즈 샵(홍대·명동 일대)\n",
      "\n",
      "빠른 3일 코스 예시\n",
      "- Day 1(전통): 경복궁 → 북촌/서촌 → 인사동·익선동 → 청계천/광화문 야경\n",
      "- Day 2(현대): 코엑스·별마당도서관·봉은사 → 성수동 카페/편집숍 → 롯데월드타워 전망\n",
      "- Day 3(감성+시장): 홍대/연남동 산책 → 한강 피크닉(여의도/반포) → 광장시장 먹거리 → 동대문 DDP 야경\n",
      "\n",
      "음식 키워드\n",
      "- 시장 먹거리: 마약김밥·빈대떡·육회(광장시장)\n",
      "- 가정식/국물: 김치찌개, 설렁탕·곰탕, 칼국수\n",
      "- 고기/면: 한국식 BBQ(마포·연남), 평양/함흥냉면\n",
      "- 채식/할랄: 홍대·성수 채식 레스토랑, 이태원 모스크 주변 할랄식당\n",
      "\n",
      "교통/실전 팁\n",
      "- 대중교통: T-money 교통카드 사용, 지하철 새벽~자정 전후 운행\n",
      "- 공항 이동: AREX(인천공항↔서울역) 또는 공항버스\n",
      "- 길찾기 앱: Naver Map·Kakao Map 권장(영어 지원), 택시는 Kakao T\n",
      "- 결제: 카드 대부분 OK, 팁 문화 없음. 면세 환급(건당 3만 원 이상) 즉시/공항 가능\n",
      "- 통신: eSIM/포켓와이파이 공항 수령, 공공 Wi‑Fi 다수\n",
      "- 관광 패스: Discover Seoul Pass(24/48/72h)로 주요 유료 입장+교통 기능 옵션. 포함 시설은 시기별 변동 → 공식 목록 확인 권장\n",
      "- 도움 서비스: 1330 관광안내(24시간, 다국어), 긴급 112/119\n",
      "\n",
      "알아두면 좋은 운영 정보\n",
      "- 휴관일: 대부분 궁궐은 월요일 휴무, 경복궁·종묘는 화요일 휴무가 일반적(방문 전 공식 공지 확인)\n",
      "- 궁 야간개장/행사: 계절별 한정(예: 창덕궁 달빛기행) → 사전 예매 필요\n",
      "- DMZ·군사시설 투어: 여권 필수, 현지 상황에 따라 취소 가능\n",
      "\n",
      "당일/근교 추천\n",
      "- 수원 화성, 한국민속촌(용인), 남이섬·아침고요수목원, 파주 헤이리·북촌(파주), 인천 차이나타운·송도\n",
      "\n",
      "맞춤 추천을 위해 알려주세요\n",
      "- 여행 시기/일수, 숙소 위치\n",
      "- 동행자 구성(혼자/커플/가족/어르신/유아)\n",
      "- 관심사(역사·카페·야경·하이킹·K-팝·미식·쇼핑 등)\n",
      "- 1인당 예산(절약/보통/프리미엄), 음식 제한(채식/할랄/알레르기)\n",
      "- 꼭 가고 싶은 곳/피하고 싶은 것\n",
      "\n",
      "원하시면 위 3일 코스를 시간대별 상세 동선, 맛집·카페·예약 링크 대안까지 맞춰 드릴게요. 어떤 스타일의 서울을 원하시나요?\n"
     ]
    }
   ],
   "source": [
    "print(response.output_text)"
   ]
  },
  {
   "cell_type": "markdown",
   "id": "731ca411",
   "metadata": {},
   "source": [
    "### gpt 모델 프롬포트 이해\n",
    "- 프롬포트 구조의 이해"
   ]
  },
  {
   "cell_type": "code",
   "execution_count": 34,
   "id": "03717c5d",
   "metadata": {},
   "outputs": [],
   "source": [
    "#open ai gpt 객체 생성\n",
    "client = OpenAI(api_key=OPENAI_API_KEY)"
   ]
  },
  {
   "cell_type": "code",
   "execution_count": 41,
   "id": "92ebd1c2",
   "metadata": {},
   "outputs": [],
   "source": [
    "# request body 작성\n",
    "completion = client.chat.completions.create(\n",
    "    model=\"gpt-5\",\n",
    "    messages=[\n",
    "        # System 프롬포트 #리스트 안에 2개의 딕셔너리갇 ㅡㄹ어가는 것은 기본\n",
    "        {\n",
    "            \"role\": \"system\",\n",
    "            \"content\": \"You are an IT professional who explains things easily enough that even elementary school students can understand.\"}, #페르소나 설정,\n",
    "        # User 프롬포트\n",
    "        {\n",
    "            \"role\": \"user\",\n",
    "            \"content\": \"클라우드와 플랫폼의 차이점을 설명해줘.\"}\n",
    "    ]\n",
    ")"
   ]
  },
  {
   "cell_type": "code",
   "execution_count": 39,
   "id": "c95e7703",
   "metadata": {},
   "outputs": [
    {
     "data": {
      "text/plain": [
       "ChatCompletion(id='chatcmpl-CV8LOINX2Te5GJZR8QBtEOzlda0Kt', choices=[Choice(finish_reason='stop', index=0, logprobs=None, message=ChatCompletionMessage(content='클라우드랑 플랫폼은 둘 다 컴퓨터 시스템을 사용하고 관리하는 방식이야.\\n\\n클라우드는 온라인에서 컴퓨터 시스템을 빌려다 써요. 마치 온라인으로 서버나 저장공간을 빌리는 것이죠. 클라우드를 이용하면 우리가 별도의 컴퓨터나 서버를 구매할 필요 없이 인터넷에 연결된 장치에서 언제든지 접근할 수 있어요.\\n\\n반면에 플랫폼은 소프트웨어 프로그램을 개발하고 실행하는 환경이에요. 플랫폼은 소프트웨어를 만들거나 실행할 수 있는 기반을 제공해줘. 그러니까, 클라우드는 컴퓨터 자원을 빌려다 쓰는 개념이고, 플랫폼은 소프트웨어를 만들고 실행하는 환경을 제공하는 개념이야.', refusal=None, role='assistant', annotations=[], audio=None, function_call=None, tool_calls=None))], created=1761536278, model='gpt-3.5-turbo-0125', object='chat.completion', service_tier='default', system_fingerprint=None, usage=CompletionUsage(completion_tokens=312, prompt_tokens=56, total_tokens=368, completion_tokens_details=CompletionTokensDetails(accepted_prediction_tokens=0, audio_tokens=0, reasoning_tokens=0, rejected_prediction_tokens=0), prompt_tokens_details=PromptTokensDetails(audio_tokens=0, cached_tokens=0)))"
      ]
     },
     "execution_count": 39,
     "metadata": {},
     "output_type": "execute_result"
    }
   ],
   "source": [
    "completion"
   ]
  },
  {
   "cell_type": "code",
   "execution_count": 42,
   "id": "a4c75419",
   "metadata": {},
   "outputs": [
    {
     "name": "stdout",
     "output_type": "stream",
     "text": [
      "아주 쉽게 말하면,\n",
      "- 클라우드: 인터넷으로 빌려 쓰는 “멀리 있는 큰 컴퓨터 방”\n",
      "- 플랫폼: 그 위에서 뭔가를 “만들고 돌리게 해주는 바닥과 도구세트”\n",
      "\n",
      "조금 풀어서\n",
      "- 클라우드는 전기나 수도처럼, 필요한 만큼 인터넷으로 컴퓨터 힘(서버), 저장공간, 프로그램을 빌려 쓰는 거예요. 내가 큰 컴퓨터를 사지 않아도 돼요.\n",
      "- 플랫폼은 레고판+설명서처럼, 앱이나 서비스를 만들고 움직이게 해주는 규칙과 도구, 환경이에요.\n",
      "\n",
      "차이점\n",
      "- 무엇을 주나: 클라우드는 컴퓨터 자원(서버, 저장공간, 네트워크)을 줘요. 플랫폼은 만들고 실행하는 도구와 규칙(개발 프레임워크, 실행 환경)을 줘요.\n",
      "- 누가 주로 쓰나: 클라우드는 기업이나 사용자 모두가 빌려 써요. 플랫폼은 주로 개발자/창작자가 그 위에 앱이나 콘텐츠를 만들 때 써요(사용자는 결과물을 사용).\n",
      "- 어디 있나: 클라우드는 인터넷 너머 데이터센터에 있어요. 플랫폼은 클라우드 위에도 있고, 휴대폰이나 PC(예: iOS, Android, Windows) 안에도 있어요.\n",
      "- 관계: 플랫폼은 클라우드 위에서 돌아갈 수 있고, 클라우드 회사가 플랫폼(예: 앱 만들기/배포 서비스)도 함께 제공해요.\n",
      "\n",
      "예시\n",
      "- 클라우드: AWS, Azure, Google Cloud, 네이버 클라우드, iCloud/Google Drive(파일 저장 빌려 쓰기)\n",
      "- 플랫폼: Android, iOS, Windows, Roblox(만들어 올리는 바닥), 그리고 Firebase/Heroku 같은 “클라우드 위의 개발 플랫폼”\n",
      "\n",
      "외우기 한 줄\n",
      "- 클라우드 = 빌려 쓰는 곳(재료)\n",
      "- 플랫폼 = 올려 만드는 바닥과 도구(도구세트)\n"
     ]
    }
   ],
   "source": [
    "print(completion.choices[0].message.content)"
   ]
  },
  {
   "cell_type": "code",
   "execution_count": null,
   "id": "e35b3d16",
   "metadata": {},
   "outputs": [],
   "source": []
  }
 ],
 "metadata": {
  "kernelspec": {
   "display_name": "gpt_env",
   "language": "python",
   "name": "python3"
  },
  "language_info": {
   "codemirror_mode": {
    "name": "ipython",
    "version": 3
   },
   "file_extension": ".py",
   "mimetype": "text/x-python",
   "name": "python",
   "nbconvert_exporter": "python",
   "pygments_lexer": "ipython3",
   "version": "3.12.12"
  }
 },
 "nbformat": 4,
 "nbformat_minor": 5
}
